{
 "cells": [
  {
   "cell_type": "code",
   "execution_count": 1,
   "metadata": {},
   "outputs": [
    {
     "ename": "Exception",
     "evalue": "File `'.../AnnModel1.ipynb'` not found.",
     "output_type": "error",
     "traceback": [
      "\u001b[0;31m---------------------------------------------------------------------------\u001b[0m",
      "\u001b[0;31mOSError\u001b[0m                                   Traceback (most recent call last)",
      "File \u001b[0;32m/opt/anaconda3/lib/python3.9/site-packages/IPython/core/magics/execution.py:701\u001b[0m, in \u001b[0;36mExecutionMagics.run\u001b[0;34m(self, parameter_s, runner, file_finder)\u001b[0m\n\u001b[1;32m    700\u001b[0m     fpath \u001b[39m=\u001b[39m arg_lst[\u001b[39m0\u001b[39m]\n\u001b[0;32m--> 701\u001b[0m     filename \u001b[39m=\u001b[39m file_finder(fpath)\n\u001b[1;32m    702\u001b[0m \u001b[39mexcept\u001b[39;00m \u001b[39mIndexError\u001b[39;00m \u001b[39mas\u001b[39;00m e:\n",
      "File \u001b[0;32m/opt/anaconda3/lib/python3.9/site-packages/IPython/utils/path.py:90\u001b[0m, in \u001b[0;36mget_py_filename\u001b[0;34m(name)\u001b[0m\n\u001b[1;32m     89\u001b[0m         \u001b[39mreturn\u001b[39;00m py_name\n\u001b[0;32m---> 90\u001b[0m \u001b[39mraise\u001b[39;00m \u001b[39mIOError\u001b[39;00m(\u001b[39m\"\u001b[39m\u001b[39mFile `\u001b[39m\u001b[39m%r\u001b[39;00m\u001b[39m` not found.\u001b[39m\u001b[39m\"\u001b[39m \u001b[39m%\u001b[39m name)\n",
      "\u001b[0;31mOSError\u001b[0m: File `'.../AnnModel1.ipynb'` not found.",
      "\nThe above exception was the direct cause of the following exception:\n",
      "\u001b[0;31mException\u001b[0m                                 Traceback (most recent call last)",
      "Cell \u001b[0;32mIn[1], line 4\u001b[0m\n\u001b[1;32m      1\u001b[0m \u001b[39m# 회귀 모델 동작\u001b[39;00m\n\u001b[1;32m      2\u001b[0m \n\u001b[1;32m      3\u001b[0m \u001b[39m# 회귀문제 단층 퍼셉트론 모델 불러오기 \u001b[39;00m\n\u001b[0;32m----> 4\u001b[0m get_ipython()\u001b[39m.\u001b[39;49mrun_line_magic(\u001b[39m'\u001b[39;49m\u001b[39mrun\u001b[39;49m\u001b[39m'\u001b[39;49m, \u001b[39m'\u001b[39;49m\u001b[39m.../AnnModel1.ipynb\u001b[39;49m\u001b[39m'\u001b[39;49m)\n\u001b[1;32m      5\u001b[0m \u001b[39m# 다층 퍼셉트론 기능 추가 \u001b[39;00m\n\u001b[1;32m      6\u001b[0m get_ipython()\u001b[39m.\u001b[39mrun_line_magic(\u001b[39m'\u001b[39m\u001b[39mrun\u001b[39m\u001b[39m'\u001b[39m, \u001b[39m'\u001b[39m\u001b[39m.../mlp.ipynb\u001b[39m\u001b[39m'\u001b[39m)\n",
      "File \u001b[0;32m/opt/anaconda3/lib/python3.9/site-packages/IPython/core/interactiveshell.py:2414\u001b[0m, in \u001b[0;36mInteractiveShell.run_line_magic\u001b[0;34m(self, magic_name, line, _stack_depth)\u001b[0m\n\u001b[1;32m   2412\u001b[0m     kwargs[\u001b[39m'\u001b[39m\u001b[39mlocal_ns\u001b[39m\u001b[39m'\u001b[39m] \u001b[39m=\u001b[39m \u001b[39mself\u001b[39m\u001b[39m.\u001b[39mget_local_scope(stack_depth)\n\u001b[1;32m   2413\u001b[0m \u001b[39mwith\u001b[39;00m \u001b[39mself\u001b[39m\u001b[39m.\u001b[39mbuiltin_trap:\n\u001b[0;32m-> 2414\u001b[0m     result \u001b[39m=\u001b[39m fn(\u001b[39m*\u001b[39;49margs, \u001b[39m*\u001b[39;49m\u001b[39m*\u001b[39;49mkwargs)\n\u001b[1;32m   2416\u001b[0m \u001b[39m# The code below prevents the output from being displayed\u001b[39;00m\n\u001b[1;32m   2417\u001b[0m \u001b[39m# when using magics with decodator @output_can_be_silenced\u001b[39;00m\n\u001b[1;32m   2418\u001b[0m \u001b[39m# when the last Python token in the expression is a ';'.\u001b[39;00m\n\u001b[1;32m   2419\u001b[0m \u001b[39mif\u001b[39;00m \u001b[39mgetattr\u001b[39m(fn, magic\u001b[39m.\u001b[39mMAGIC_OUTPUT_CAN_BE_SILENCED, \u001b[39mFalse\u001b[39;00m):\n",
      "File \u001b[0;32m/opt/anaconda3/lib/python3.9/site-packages/IPython/core/magics/execution.py:712\u001b[0m, in \u001b[0;36mExecutionMagics.run\u001b[0;34m(self, parameter_s, runner, file_finder)\u001b[0m\n\u001b[1;32m    710\u001b[0m     \u001b[39mif\u001b[39;00m os\u001b[39m.\u001b[39mname \u001b[39m==\u001b[39m \u001b[39m'\u001b[39m\u001b[39mnt\u001b[39m\u001b[39m'\u001b[39m \u001b[39mand\u001b[39;00m re\u001b[39m.\u001b[39mmatch(\u001b[39mr\u001b[39m\u001b[39m\"\u001b[39m\u001b[39m^\u001b[39m\u001b[39m'\u001b[39m\u001b[39m.*\u001b[39m\u001b[39m'\u001b[39m\u001b[39m$\u001b[39m\u001b[39m\"\u001b[39m,fpath):\n\u001b[1;32m    711\u001b[0m         warn(\u001b[39m'\u001b[39m\u001b[39mFor Windows, use double quotes to wrap a filename: \u001b[39m\u001b[39m%r\u001b[39;00m\u001b[39mun \u001b[39m\u001b[39m\"\u001b[39m\u001b[39mmypath\u001b[39m\u001b[39m\\\\\u001b[39;00m\u001b[39mmyfile.py\u001b[39m\u001b[39m\"\u001b[39m\u001b[39m'\u001b[39m)\n\u001b[0;32m--> 712\u001b[0m     \u001b[39mraise\u001b[39;00m \u001b[39mException\u001b[39;00m(msg) \u001b[39mfrom\u001b[39;00m \u001b[39me\u001b[39;00m\n\u001b[1;32m    713\u001b[0m \u001b[39mexcept\u001b[39;00m \u001b[39mTypeError\u001b[39;00m:\n\u001b[1;32m    714\u001b[0m     \u001b[39mif\u001b[39;00m fpath \u001b[39min\u001b[39;00m sys\u001b[39m.\u001b[39mmeta_path:\n",
      "\u001b[0;31mException\u001b[0m: File `'.../AnnModel1.ipynb'` not found."
     ]
    }
   ],
   "source": [
    "# 회귀 모델 동작\n",
    "\n",
    "# 회귀문제 단층 퍼셉트론 모델 불러오기 \n",
    "%run .../AnnModel1.ipynb\n",
    "# 다층 퍼셉트론 기능 추가 \n",
    "%run .../mlp.ipynb\n",
    "\n",
    "# 아무 값도 입력하지 않으면 은닉계층을 갖지 않는 SLP 이 구축됩니다.\n",
    "set_hidden([1,2])\n",
    "# 메서드 동작\n",
    "main()"
   ]
  },
  {
   "cell_type": "code",
   "execution_count": 3,
   "metadata": {},
   "outputs": [
    {
     "name": "stdout",
     "output_type": "stream",
     "text": [
      "[안내] 은닉 계층 2개를 갖는 다층 퍼셉트론이 적용됩니다.\n",
      "Epoch 1   : Train - Loss = 0.408, Accuracy = 0.906 / Test - Accuracy = 0.913\n",
      "Epoch 2   : Train - Loss = 0.318, Accuracy = 0.906 / Test - Accuracy = 0.913\n",
      "Epoch 3   : Train - Loss = 0.313, Accuracy = 0.906 / Test - Accuracy = 0.913\n",
      "Epoch 4   : Train - Loss = 0.313, Accuracy = 0.906 / Test - Accuracy = 0.913\n",
      "Epoch 5   : Train - Loss = 0.312, Accuracy = 0.906 / Test - Accuracy = 0.913\n",
      "Epoch 6   : Train - Loss = 0.312, Accuracy = 0.906 / Test - Accuracy = 0.913\n",
      "Epoch 7   : Train - Loss = 0.312, Accuracy = 0.906 / Test - Accuracy = 0.913\n",
      "Epoch 8   : Train - Loss = 0.312, Accuracy = 0.906 / Test - Accuracy = 0.913\n",
      "Epoch 9   : Train - Loss = 0.312, Accuracy = 0.906 / Test - Accuracy = 0.913\n",
      "Epoch 10   : Train - Loss = 0.312, Accuracy = 0.906 / Test - Accuracy = 0.913\n",
      "==============================  Final TEST  ==============================\n",
      "\n",
      "Final Accuracy = 0.913\n"
     ]
    }
   ],
   "source": [
    "# 이진판단 모델동작\n",
    "\n",
    "# 회귀문제 단층 퍼셉트론 모델 불러오기 \n",
    "%run .../AnnModel2.ipynb\n",
    "# 다층 퍼셉트론 기능 추가 \n",
    "%run .../mlp.ipynb\n",
    "\n",
    "# 아무 값도 입력하지 않으면 은닉계층을 갖지 않는 SLP 이 구축됩니다.\n",
    "set_hidden([1,2])\n",
    "# 메서드 동작\n",
    "binary_main()"
   ]
  },
  {
   "cell_type": "code",
   "execution_count": 6,
   "metadata": {},
   "outputs": [
    {
     "name": "stdout",
     "output_type": "stream",
     "text": [
      "[안내] 은닉 계층 2개를 갖는 다층 퍼셉트론이 적용됩니다.\n",
      "[Epoch 1] Train Loss = 0.560 | Test Acc = 0.788, Precision = 0.926, Recall = 0.624, F1 = 0.746\n",
      "[Epoch 2] Train Loss = 0.486 | Test Acc = 0.503, Precision = 0.000, Recall = 0.000, F1 = 0.000\n",
      "[Epoch 3] Train Loss = 0.423 | Test Acc = 0.853, Precision = 0.924, Recall = 0.767, F1 = 0.838\n",
      "[Epoch 4] Train Loss = 0.307 | Test Acc = 0.912, Precision = 0.946, Recall = 0.873, F1 = 0.908\n",
      "[Epoch 5] Train Loss = 0.245 | Test Acc = 0.921, Precision = 0.960, Recall = 0.877, F1 = 0.916\n",
      "[Epoch 6] Train Loss = 0.232 | Test Acc = 0.921, Precision = 0.936, Recall = 0.903, F1 = 0.919\n",
      "[Epoch 7] Train Loss = 0.227 | Test Acc = 0.927, Precision = 0.948, Recall = 0.904, F1 = 0.925\n",
      "[Epoch 8] Train Loss = 0.225 | Test Acc = 0.925, Precision = 0.964, Recall = 0.882, F1 = 0.921\n",
      "[Epoch 9] Train Loss = 0.223 | Test Acc = 0.925, Precision = 0.935, Recall = 0.912, F1 = 0.924\n",
      "[Epoch 10] Train Loss = 0.222 | Test Acc = 0.929, Precision = 0.960, Recall = 0.894, F1 = 0.926\n",
      "\n",
      " ========================================  FINAL TEST REPORT ======================================== \n",
      "\n",
      "► Acc = 0.929 Precision = 0.960, Recall = 0.894, F1 = 0.926\n"
     ]
    }
   ],
   "source": [
    "# 이진판단 모델동작, 평가지표 개선 및 데이터 증폭 작업 실시\n",
    "\n",
    "# 회귀문제 단층 퍼셉트론 모델 불러오기 \n",
    "%run .../AnnModel2_Plus.ipynb\n",
    "# 다층 퍼셉트론 기능 추가 \n",
    "%run .../mlp.ipynb\n",
    "\n",
    "# 아무 값도 입력하지 않으면 은닉계층을 갖지 않는 SLP 이 구축됩니다.\n",
    "set_hidden([1,2])\n",
    "# 메서드 동작\n",
    "binary_main(adjust_ratio = True)"
   ]
  },
  {
   "cell_type": "code",
   "execution_count": 4,
   "metadata": {},
   "outputs": [
    {
     "name": "stdout",
     "output_type": "stream",
     "text": [
      "[안내] 은닉 계층 2개를 갖는 다층 퍼셉트론이 적용됩니다.\n",
      "Epoch 1   : Train - Loss = 2.009, Accuracy = 0.349 / Test - Accuracy = 0.342\n",
      "Epoch 2   : Train - Loss = 1.840, Accuracy = 0.350 / Test - Accuracy = 0.342\n",
      "Epoch 3   : Train - Loss = 1.795, Accuracy = 0.350 / Test - Accuracy = 0.342\n",
      "Epoch 4   : Train - Loss = 1.764, Accuracy = 0.350 / Test - Accuracy = 0.342\n",
      "Epoch 5   : Train - Loss = 1.743, Accuracy = 0.350 / Test - Accuracy = 0.342\n",
      "Epoch 6   : Train - Loss = 1.727, Accuracy = 0.350 / Test - Accuracy = 0.342\n",
      "Epoch 7   : Train - Loss = 1.717, Accuracy = 0.350 / Test - Accuracy = 0.342\n",
      "Epoch 8   : Train - Loss = 1.709, Accuracy = 0.350 / Test - Accuracy = 0.342\n",
      "Epoch 9   : Train - Loss = 1.703, Accuracy = 0.350 / Test - Accuracy = 0.342\n",
      "Epoch 10   : Train - Loss = 1.699, Accuracy = 0.350 / Test - Accuracy = 0.342\n",
      "==============================  Final TEST  ==============================\n",
      "\n",
      "Final Accuracy = 0.342\n"
     ]
    }
   ],
   "source": [
    "# 회귀문제 단층 퍼셉트론 모델 불러오기 \n",
    "%run .../AnnModel3.ipynb\n",
    "# 다층 퍼셉트론 기능 추가 \n",
    "%run .../mlp.ipynb\n",
    "\n",
    "# 아무 값도 입력하지 않으면 은닉계층을 갖지 않는 SLP 이 구축됩니다.\n",
    "set_hidden([2,5])\n",
    "# 메서드 동작\n",
    "multiple_main()"
   ]
  }
 ],
 "metadata": {
  "kernelspec": {
   "display_name": "venv_cp",
   "language": "python",
   "name": "python3"
  },
  "language_info": {
   "codemirror_mode": {
    "name": "ipython",
    "version": 3
   },
   "file_extension": ".py",
   "mimetype": "text/x-python",
   "name": "python",
   "nbconvert_exporter": "python",
   "pygments_lexer": "ipython3",
   "version": "3.9.13"
  },
  "orig_nbformat": 4
 },
 "nbformat": 4,
 "nbformat_minor": 2
}
